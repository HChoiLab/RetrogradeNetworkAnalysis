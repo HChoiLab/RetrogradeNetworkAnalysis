{
 "cells": [
  {
   "cell_type": "code",
   "execution_count": null,
   "id": "688aeee3",
   "metadata": {},
   "outputs": [],
   "source": [
    "import logging\n",
    "import numpy as np\n",
    "import matplotlib.pyplot as plt\n",
    "import pandas as pd\n",
    "\n",
    "\"\"\"\n",
    "Published on Sun Mar 10 11:22:46 2024\n",
    "\n",
    "@author: Eric Li, Hannah Choi\n",
    "\"\"\"\n",
    "\"\"\"\n",
    "This code takes previously generated hierarchy scores & global hierarchy score data from the \"Results\" folder, and makes figures.\n",
    "\"\"\""
   ]
  },
  {
   "cell_type": "markdown",
   "id": "797862a8",
   "metadata": {},
   "source": [
    "# Import results"
   ]
  },
  {
   "cell_type": "code",
   "execution_count": null,
   "id": "ac051a13",
   "metadata": {},
   "outputs": [],
   "source": [
    "input_dir = r'./results/' \n",
    "output_dir = r'./Output/'\n",
    "xls1=pd.ExcelFile(input_dir+\"hierarchy_summary_antero_retro_CreConf.xlsx\")\n",
    "xls2=pd.ExcelFile(input_dir+\"gh_comparison_antero_retro_shuffled_CreConf.xlsx\")"
   ]
  },
  {
   "cell_type": "markdown",
   "id": "e142879f",
   "metadata": {},
   "source": [
    "# Hierarchy of all cortical & thalamic regions"
   ]
  },
  {
   "cell_type": "code",
   "execution_count": null,
   "id": "36dccca5",
   "metadata": {
    "scrolled": true
   },
   "outputs": [],
   "source": [
    "df=pd.read_excel(xls1)\n",
    "df = df.sort_values('CC+TCCT iterated')\n",
    "areas = df['areas']\n",
    "\n",
    "areas_isocortex = df[df.CortexThalamus == 'C']['areas']\n",
    "\n",
    "areas_CC = df['areas'].copy()\n",
    "mask = np.in1d(areas_CC, areas_isocortex)\n",
    "areas_CC.loc[~mask] = np.nan\n",
    "areas_vec = np.arange(0,len(areas))\n",
    "areas_vec_CC = np.arange(0,len(areas))\n",
    "areas_vec_CC = [x for i, x in enumerate(areas_vec_CC) if mask[i]]\n",
    "\n",
    "hs = df['CC+TCCT iterated']\n",
    "hs_CC = df[df.CortexThalamus == 'C']['CC iterated']\n",
    "\n",
    "f = plt.figure()\n",
    "plt.plot(hs_CC, areas_vec_CC, 'ro', label = 'CC')\n",
    "plt.plot(hs,areas_vec,'bo', label = 'CC+TCCT')\n",
    "plt.xlabel('hierarchy score')\n",
    "plt.ylabel('areas')\n",
    "plt.xlim(-2.5,1.5)\n",
    "plt.yticks(areas_vec, areas)\n",
    "plt.title('CC+TCCT hierarchy')\n",
    "f.set_size_inches(6, 10.5)\n",
    "plt.legend(loc='lower right')\n",
    "#f.savefig(output_dir+\"hierarchy.svg\", format=\"svg\")\n",
    "plt.show() "
   ]
  },
  {
   "cell_type": "markdown",
   "id": "30626f65",
   "metadata": {},
   "source": [
    "# Intra-module hierarchy of visual module"
   ]
  },
  {
   "cell_type": "code",
   "execution_count": null,
   "id": "dfcb8fa9",
   "metadata": {},
   "outputs": [],
   "source": [
    "df=pd.read_excel(xls1,'hierarchy_visual')\n",
    "df = df.sort_values('CC+TCCT iterated')\n",
    "\n",
    "areas = df['areas']\n",
    "areas_vec = np.arange(0,len(areas))\n",
    "hs = df['CC+TCCT iterated']\n",
    "\n",
    "f = plt.figure()\n",
    "plt.plot(hs,areas_vec,'ro')\n",
    "plt.xlabel('hierarchy score')\n",
    "plt.ylabel('areas')\n",
    "plt.xlim(-1.1,1)\n",
    "plt.yticks(areas_vec, areas)\n",
    "plt.title('Visual module hierarchy')\n",
    "f.set_size_inches(4, 6)\n",
    "#f.savefig(output_dir+\"visual.svg\", format=\"svg\")\n",
    "plt.show()"
   ]
  },
  {
   "cell_type": "markdown",
   "id": "fc595710",
   "metadata": {},
   "source": [
    "# Inter-module cortical hierarchy"
   ]
  },
  {
   "cell_type": "code",
   "execution_count": null,
   "id": "70965ca7",
   "metadata": {},
   "outputs": [],
   "source": [
    "''' Inter-module cortical hierarchy'''\n",
    "\n",
    "df=pd.read_excel(xls1,'hierarchy_intermodule')\n",
    "df = df.sort_values('CC+TCCT iterated')\n",
    "\n",
    "areas = df['areas']\n",
    "areas_vec = np.arange(0,len(areas))\n",
    "hs = df['CC+TCCT iterated']\n",
    "\n",
    "f = plt.figure()\n",
    "plt.plot(hs,areas_vec,'ro')\n",
    "plt.xlabel('hierarchy score')\n",
    "plt.ylabel('areas')\n",
    "plt.xlim(-1.1,1)\n",
    "plt.yticks(areas_vec, areas)\n",
    "plt.title('Inter-module hierarchy')\n",
    "f.set_size_inches(4, 6)\n",
    "#f.savefig(output_dir+\"inter-module.svg\", format=\"svg\")\n",
    "plt.show()"
   ]
  },
  {
   "cell_type": "markdown",
   "id": "de4336f5",
   "metadata": {},
   "source": [
    "# Global hierarchy scores: comparison to shuffled data"
   ]
  },
  {
   "cell_type": "code",
   "execution_count": null,
   "id": "a34ce533",
   "metadata": {},
   "outputs": [],
   "source": [
    "df_CC = pd.read_excel(xls2,'CC')\n",
    "CC_shuffled = df_CC['iter shuffled hg (cortex)']\n",
    "CC_data = df_CC['iter data hg (cortex)'][0]\n",
    "zscore_CC = (CC_data-np.mean(CC_shuffled))/np.std(CC_shuffled) \n",
    "\n",
    "df_TCCT = pd.read_excel(xls2,'CC+TCCT')\n",
    "TCCT_shuffled = df_TCCT['iter shuffled hg (cortex+thal)']\n",
    "TCCT_data = df_TCCT['iter data hg (cortex+thal)'][0]\n",
    "zscore_TCCT = (TCCT_data-np.mean(TCCT_shuffled))/np.std(TCCT_shuffled) \n",
    "\n",
    "fig,ax=plt.subplots()\n",
    "ax.hist(CC_shuffled, bins=10, label='CC',color='red')\n",
    "ax.axvline(x=CC_data,linestyle='--',color='red')\n",
    "ax.hist(TCCT_shuffled, bins=25, label='CC+TCCT')\n",
    "ax.axvline(x=TCCT_data,linestyle='--')\n",
    "ax.set_xlabel('global hierarchy score (antero + retro)',fontsize=16)\n",
    "ax.set_ylabel('counts',fontsize=16)\n",
    "ax.set_title('z-score(CC)={:.2f}, z-score(CC+TCCT)={:.2f}'.format(zscore_CC, zscore_TCCT))\n",
    "ax.legend(loc='upper right')\n",
    "#fig.savefig(output_dir+\"shuffled.svg\", format=\"svg\")"
   ]
  }
 ],
 "metadata": {
  "kernelspec": {
   "display_name": "Python 3 (ipykernel)",
   "language": "python",
   "name": "python3"
  },
  "language_info": {
   "codemirror_mode": {
    "name": "ipython",
    "version": 3
   },
   "file_extension": ".py",
   "mimetype": "text/x-python",
   "name": "python",
   "nbconvert_exporter": "python",
   "pygments_lexer": "ipython3",
   "version": "3.9.12"
  }
 },
 "nbformat": 4,
 "nbformat_minor": 5
}
