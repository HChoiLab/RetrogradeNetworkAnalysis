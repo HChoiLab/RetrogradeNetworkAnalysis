{
 "cells": [
  {
   "cell_type": "code",
   "execution_count": null,
   "id": "890180b8",
   "metadata": {},
   "outputs": [],
   "source": [
    "import logging\n",
    "import numpy as np\n",
    "import matplotlib.pyplot as plt\n",
    "import pandas as pd\n",
    "from func_unsupervised_TC_module import fit_TC\n",
    "from func_unsupervised_CT_module import fit_CT\n",
    "from IterativeMethod import iterativeTCCT\n",
    "\n",
    "\"\"\"\n",
    "Created on Sat Mar 2 16:52:07 2024\n",
    "\n",
    "@author: Eric Li, Hannah Choi\n",
    "\"\"\"\n",
    "\"\"\"\n",
    "This code finds intra- or inter-module hierarchies of cortical network \n",
    "by maximizing the global hierarchy score followed by iterations, \n",
    "based on TC and CT connectivity data.\n",
    "\"\"\""
   ]
  },
  {
   "cell_type": "markdown",
   "id": "e0722276",
   "metadata": {},
   "source": [
    "# Set input and output directories \n"
   ]
  },
  {
   "cell_type": "code",
   "execution_count": null,
   "id": "1f42b4af",
   "metadata": {},
   "outputs": [],
   "source": [
    "CreConf = 1                    # 1 if using CC hierarchy with Cre-confidence; 0 if not\n",
    "\n",
    "input_dir = r'./Input/'        # Directory with the file \"AnteroRetro_CC_TC_CT_clusters.xlsx\" & \"clustermapping.xlsx\"\n",
    "output_dir = r'./Output/module/'      # Directory to save the ouputs from the experimental data"
   ]
  },
  {
   "cell_type": "markdown",
   "id": "40f638a9",
   "metadata": {},
   "source": [
    "# Define the module. \n"
   ]
  },
  {
   "cell_type": "code",
   "execution_count": null,
   "id": "807995ce",
   "metadata": {},
   "outputs": [],
   "source": [
    "module = 'inter_predefined'\n",
    "\n",
    "# In the paper, we used the following: 'Visual' & 'inter_predefined'\n",
    "# Possible modules: 'Visual', 'Medial', 'Auditory', 'Somatomotor', 'PFC', 'inter_predefined', 'inter'"
   ]
  },
  {
   "cell_type": "markdown",
   "id": "a820c0f1",
   "metadata": {},
   "source": [
    "# Clusters of TC and CT source-line-target pairs\n"
   ]
  },
  {
   "cell_type": "code",
   "execution_count": null,
   "id": "86b14b9e",
   "metadata": {},
   "outputs": [],
   "source": [
    "xls=pd.ExcelFile(input_dir+\"AnteroRetro_CC_TC_CT_clusters.xlsx\")\n",
    "\n",
    "df=pd.read_excel(xls,'anteroCCTC_retroCCCT')\n",
    "\n",
    "df = df[((df[\"Target Major Division\"] == \"isocortex\")&(df[\"Source Major Division\"] == \"thalamus\"))\n",
    "        |((df[\"Target Major Division\"] == \"thalamus\")&(df[\"Source Major Division\"] == \"isocortex\"))] # TC/CT connections"
   ]
  },
  {
   "cell_type": "markdown",
   "id": "1e1f3e3e",
   "metadata": {},
   "source": [
    "# Use modules found by retrograde analysis"
   ]
  },
  {
   "cell_type": "code",
   "execution_count": null,
   "id": "4a2006ce",
   "metadata": {},
   "outputs": [],
   "source": [
    "df.loc[((df[\"source\"] == \"GU\")|(df[\"source\"] == \"VISC\")|(df[\"source\"] == \"SSs\")|(df[\"source\"] == \"SSp-bfd\")\n",
    "        |(df[\"source\"] == \"SSp-ll\")|(df[\"source\"] == \"SSp-ul\")|(df[\"source\"] == \"SSp-un\")|(df[\"source\"] == \"SSp-n\")\n",
    "        |(df[\"source\"] == \"SSp-m\")|(df[\"source\"] == \"MOp\")|(df[\"source\"] == \"MOs\")),\"Cortical Source Module\"]='Somatomotor'\n",
    "df.loc[((df[\"target\"] == \"GU\")|(df[\"target\"] == \"VISC\")|(df[\"target\"] == \"SSs\")|(df[\"target\"] == \"SSp-bfd\")\n",
    "        |(df[\"target\"] == \"SSp-ll\")|(df[\"target\"] == \"SSp-ul\")|(df[\"target\"] == \"SSp-un\")|(df[\"target\"] == \"SSp-n\")\n",
    "        |(df[\"target\"] == \"SSp-m\")|(df[\"target\"] == \"MOp\")|(df[\"target\"] == \"MOs\")),\"Cortical Target Module\"]='Somatomotor'\n",
    "\n",
    "df.loc[((df[\"source\"] == \"VISal\")|(df[\"source\"] == \"VISl\")|(df[\"source\"] == \"VISp\")|(df[\"source\"] == \"VISpl\")\n",
    "        |(df[\"source\"] == \"VISli\")|(df[\"source\"] == \"VISpor\")|(df[\"source\"] == \"VISrl\")|(df[\"source\"] == \"VISa\")\n",
    "        |(df[\"source\"] == \"VISam\")|(df[\"source\"] == \"VISpm\")),\"Cortical Source Module\"]='Visual'\n",
    "df.loc[((df[\"target\"] == \"VISal\")|(df[\"target\"] == \"VISl\")|(df[\"target\"] == \"VISp\")|(df[\"target\"] == \"VISpl\")\n",
    "        |(df[\"target\"] == \"VISli\")|(df[\"target\"] == \"VISpor\")|(df[\"target\"] == \"VISrl\")|(df[\"target\"] == \"VISa\")\n",
    "        |(df[\"target\"] == \"VISam\")|(df[\"target\"] == \"VISpm\")),\"Cortical Target Module\"]='Visual'\n",
    "\n",
    "df.loc[((df[\"source\"] == \"ACAd\")|(df[\"source\"] == \"ACAv\")|(df[\"source\"] == \"SSp-tr\")|(df[\"source\"] == \"RSPagl\")\n",
    "        |(df[\"source\"] == \"RSPd\")|(df[\"source\"] == \"RSPv\")),\"Cortical Source Module\"]='Medial'\n",
    "df.loc[((df[\"target\"] == \"ACAd\")|(df[\"target\"] == \"ACAv\")|(df[\"target\"] == \"SSp-tr\")|(df[\"target\"] == \"RSPagl\")\n",
    "        |(df[\"target\"] == \"RSPd\")|(df[\"target\"] == \"RSPv\")),\"Cortical Target Module\"]='Medial'\n",
    "\n",
    "df.loc[((df[\"source\"] == \"TEa\")|(df[\"source\"] == \"AUDd\")|(df[\"source\"] == \"AUDp\")|(df[\"source\"] == \"AUDpo\")\n",
    "        |(df[\"source\"] == \"AUDv\")),\"Cortical Source Module\"]='Auditory'\n",
    "df.loc[((df[\"target\"] == \"TEa\")|(df[\"target\"] == \"AUDd\")|(df[\"target\"] == \"AUDp\")|(df[\"target\"] == \"AUDpo\")\n",
    "        |(df[\"target\"] == \"AUDv\")),\"Cortical Target Module\"]='Auditory'\n",
    "\n",
    "df.loc[((df[\"source\"] == \"FRP\")|(df[\"source\"] == \"PL\")|(df[\"source\"] == \"ILA\")|(df[\"source\"] == \"ORBl\")\n",
    "        |(df[\"source\"] == \"ORBm\")|(df[\"source\"] == \"ORBvl\")|(df[\"source\"] == \"AId\")|(df[\"source\"] == \"AIv\")\n",
    "        |(df[\"source\"] == \"AIp\")|(df[\"source\"] == \"ECT\")|(df[\"source\"] == \"PERI\")),\"Cortical Source Module\"]='PFC'\n",
    "df.loc[((df[\"target\"] == \"FRP\")|(df[\"target\"] == \"PL\")|(df[\"target\"] == \"ILA\")|(df[\"target\"] == \"ORBl\")\n",
    "        |(df[\"target\"] == \"ORBm\")|(df[\"target\"] == \"ORBvl\")|(df[\"target\"] == \"AId\")|(df[\"target\"] == \"AIv\")\n",
    "        |(df[\"target\"] == \"AIp\")|(df[\"target\"] == \"ECT\")|(df[\"target\"] == \"PERI\")),\"Cortical Target Module\"]='PFC'\n",
    "\n",
    "list_module = df[\"Cortical Target Module\"].unique()\n",
    "list_module = list_module[:list_module.size-1]\n",
    "\n",
    "clu_ffb=pd.read_excel(input_dir+\"clustermapping.xlsx\")\n",
    "clu_ffb = clu_ffb.rename(columns={'TC': 'ffb_TC'})\n",
    "clu_ffb = clu_ffb.rename(columns={'CT': 'ffb_CT'})"
   ]
  },
  {
   "cell_type": "markdown",
   "id": "60b84e3a",
   "metadata": {},
   "source": [
    "# For intra-medial, select only the areas within the chosen module\n"
   ]
  },
  {
   "cell_type": "code",
   "execution_count": null,
   "id": "3f723184",
   "metadata": {},
   "outputs": [],
   "source": [
    "if (module != 'inter') and (module != 'inter_predefined'):\n",
    "    df = df[(df[\"Cortical Target Module\"] == module)|(df[\"Cortical Source Module\"] == module)]"
   ]
  },
  {
   "cell_type": "markdown",
   "id": "485423d7",
   "metadata": {},
   "source": [
    "# If inter-module, change all the target & source area names to the module name\n"
   ]
  },
  {
   "cell_type": "code",
   "execution_count": null,
   "id": "1b5059c9",
   "metadata": {},
   "outputs": [],
   "source": [
    "if (module == 'inter') or (module == 'inter_predefined'): \n",
    "    for i_module in range(0,len(list_module)):\n",
    "        df.loc[df[\"Cortical Target Module\"] == list_module[i_module],'target'] = list_module[i_module]\n",
    "        df.loc[df[\"Cortical Source Module\"] == list_module[i_module],'source'] = list_module[i_module] "
   ]
  },
  {
   "cell_type": "markdown",
   "id": "a7704658",
   "metadata": {},
   "source": [
    "# Trim the dataframe \n"
   ]
  },
  {
   "cell_type": "code",
   "execution_count": null,
   "id": "ee749969",
   "metadata": {},
   "outputs": [],
   "source": [
    "df_antero=df[(df.Antero_Retro == \"A\")] \n",
    "df_antero=df_antero[(df_antero.hemi ==\"ipsi\")&(df_antero.creline != \"C57BL/6J / Emx1\")&(df_antero.target != \"VISC\")&(df_antero.source != \"SSp-un\")&(df_antero.target != \"SSp-un\")&(df_antero.source != \"VISC\")] # Consider ipsilateral, Cre connectivity data only\n",
    "df_antero = df_antero[(df_antero[\"Target Major Division\"] == \"isocortex\")&(df_antero[\"Source Major Division\"] == \"thalamus\")] # Consider T-C connections\n",
    "\n",
    "dfV1 = df_antero[['Antero_Retro','source','target','creline','AnteroCluster']]\n",
    "dfV1 = dfV1.reset_index(drop=True)\n",
    "dfV1['AnteroCluster'] = dfV1['AnteroCluster'].apply(np.int64)\n",
    "\n",
    "df_retro=df[(df.Antero_Retro == \"R\")] \n",
    "df_retro = df_retro[(df_retro[\"Target Major Division\"] == \"thalamus\")&(df_retro[\"Source Major Division\"] == \"isocortex\")]  # Consider C-T connections\n",
    "\n",
    "dfV2 = df_retro[['Antero_Retro','source','target','creline','RetroCluster']]\n",
    "\n",
    "dfV2 = dfV2.reset_index(drop=True)\n",
    "dfV2['RetroCluster'] = dfV2['RetroCluster'].apply(np.int64)\n",
    "\n",
    "frames = [dfV1, dfV2]\n",
    "dfV = pd.concat(frames)\n",
    "dfV['AnteroCluster'] = dfV['AnteroCluster'].astype('Int64')\n",
    "dfV['RetroCluster'] = dfV['RetroCluster'].astype('Int64')\n",
    "\n",
    "num_antero_clu = len(dfV[\"AnteroCluster\"].unique())-1\n",
    "num_retro_clu = len(dfV[\"RetroCluster\"].unique())-1\n",
    "\n",
    "dfVT = dfV.reset_index(drop=True)"
   ]
  },
  {
   "cell_type": "markdown",
   "id": "417ea913",
   "metadata": {},
   "source": [
    "# If inter-module, we may want to find the mapping rule, that is not pre-defined.\n"
   ]
  },
  {
   "cell_type": "code",
   "execution_count": null,
   "id": "4a196610",
   "metadata": {},
   "outputs": [],
   "source": [
    "if module == 'inter':\n",
    "    logging.debug(\"performing initial hierarchy assignment\")\n",
    "    hierarchy_vals_antero = fit_TC(dfV1, module)\n",
    "\n",
    "    jmax_raw_antero, jmax_antero = np.argmax(hierarchy_vals_antero, axis=0)\n",
    "    jmax_raw_val_antero = hierarchy_vals_antero[jmax_raw_antero][0]\n",
    "    jmax_val_antero = hierarchy_vals_antero[jmax_antero][1]\n",
    "    logging.debug(\"RESULTS\")\n",
    "    n = num_antero_clu\n",
    "    logging.debug(\"(jmax_raw_antero, val) = ({:0{n}b}, {:.3f})\".format(jmax_raw_antero, jmax_raw_val_antero, n=n))\n",
    "    logging.debug(\"(jmax_antero,     val) = ({:0{n}b}, {:.3f})\".format(jmax_antero, jmax_val_antero, n=n))\n",
    "    \n",
    "    results = dict(jmax_antero=bin(2**n+jmax_antero),\n",
    "                   jmax_val_antero=jmax_val_antero,\n",
    "                   jmax_raw_antero=bin(2**n+jmax_raw_antero),\n",
    "                   jmax_raw_val_antero=jmax_raw_val_antero)\n",
    "    hrc_original_antero = jmax_val_antero\n",
    "    hr_original_antero = jmax_raw_val_antero\n",
    "    \n",
    "    print(results)\n",
    "    hierarchy_vals_retro = fit_CT(dfV2, module)\n",
    "\n",
    "    jmax_raw_retro, jmax_retro = np.argmax(hierarchy_vals_retro, axis=0)\n",
    "    jmax_raw_val_retro = hierarchy_vals_retro[jmax_raw_retro][0]\n",
    "    jmax_val_retro = hierarchy_vals_retro[jmax_retro][1]\n",
    "    logging.debug(\"RESULTS\")\n",
    "    n = num_retro_clu\n",
    "    logging.debug(\"(jmax_raw_retro, val) = ({:0{n}b}, {:.3f})\".format(jmax_raw_retro, jmax_raw_val_retro, n=n))\n",
    "    logging.debug(\"(jmax_retro,     val) = ({:0{n}b}, {:.3f})\".format(jmax_retro, jmax_val_retro, n=n))\n",
    "    \n",
    "    results = dict(jmax_retro=bin(2**n+jmax_retro),\n",
    "                   jmax_val_retro=jmax_val_retro,\n",
    "                   jmax_raw_retro=bin(2**n+jmax_raw_retro),\n",
    "                   jmax_raw_val_retro=jmax_raw_val_retro)\n",
    "    hrc_original_retro = jmax_val_retro\n",
    "    hr_original_retro = jmax_raw_val_retro\n",
    "    \n",
    "    print(results)"
   ]
  },
  {
   "cell_type": "markdown",
   "id": "83d25797",
   "metadata": {},
   "source": [
    "# Define functions needed.\n"
   ]
  },
  {
   "cell_type": "code",
   "execution_count": null,
   "id": "98d567c9",
   "metadata": {},
   "outputs": [],
   "source": [
    "c0r = 2**(num_retro_clu)\n",
    "c0a = 2**(num_antero_clu)\n",
    "\n",
    "def ffb_c_TC (cls):\n",
    "    \"\"\"Direction of each TC cluster with confidence\"\"\"\n",
    "    if module == 'inter':\n",
    "        b=(bin(c0a+jmax_antero)[-(cls)])\n",
    "        return -(2*int(b)-1) # or -(2*int(b)-1)\n",
    "    elif module != 'inter':\n",
    "        return int(clu_ffb[clu_ffb.clu == cls].ffb_TC)   \n",
    "\n",
    "def ffb_nc_TC (cls):\n",
    "    \"\"\"Direction of each TC cluster without confidence\"\"\"\n",
    "    if module == 'inter':\n",
    "        b=(bin(c0a+jmax_raw_antero)[-(cls)])\n",
    "        return -(2*int(b)-1)  # or (2*int(b)-1)\n",
    "    elif module != 'inter':\n",
    "        return int(clu_ffb[clu_ffb.clu == cls].ffb_TC)\n",
    "    \n",
    "def ffb_c_CT (cls):\n",
    "    \"\"\"Direction of each CT cluster with confidence\"\"\"\n",
    "    if module == 'inter':\n",
    "        b=(bin(c0r+jmax_retro)[-(cls)])\n",
    "        return -(2*int(b)-1) # or -(2*int(b)-1)\n",
    "    elif module != 'inter':\n",
    "        return int(clu_ffb[clu_ffb.clu == cls].ffb_CT)   \n",
    "\n",
    "def ffb_nc_CT (cls):\n",
    "    \"\"\"Direction of each CT cluster without confidence\"\"\"\n",
    "    if module == 'inter':\n",
    "        b=(bin(c0r+jmax_raw_retro)[-(cls)])\n",
    "        return -(2*int(b)-1)  # or (2*int(b)-1)\n",
    "    elif module != 'inter':\n",
    "        return int(clu_ffb[clu_ffb.clu == cls].ffb_CT)\n",
    "\n",
    "def confidence(df):\n",
    "    \"\"\"Returns multiplier which biases towards roughly equal # of FF and FB connections\"\"\"    \n",
    "    count_ff = len(df[df.ffb_c==1])\n",
    "    count_fb = len(df[df.ffb_c==-1])\n",
    "    confnew = min(count_ff, count_fb)/(count_ff+count_fb)\n",
    "    return confnew\n",
    "\n",
    "def hrf (area):\n",
    "    '''Hierarchy score of each area without confidence'''\n",
    "    return (-np.mean(dfVT[dfVT.source == area].ffb_nc)+np.mean(dfVT[dfVT.target == area].ffb_nc))/2\n",
    "\n",
    "def hrcf (area):\n",
    "    '''Hierarchy score of each area with confidence'''\n",
    "    return (-np.mean(dfVT[dfVT.source == area].ffb_c)+np.mean(dfVT[dfVT.target == area].ffb_c))/2"
   ]
  },
  {
   "cell_type": "markdown",
   "id": "6da44766",
   "metadata": {},
   "source": [
    "# Produce expanded data frame with  FF/FB, hierarchy values as source & target for each pair of TC/CT connections\n"
   ]
  },
  {
   "cell_type": "code",
   "execution_count": null,
   "id": "4a9eadda",
   "metadata": {},
   "outputs": [],
   "source": [
    "'''ATTENTION! Use the confidence-weighted (biased) mapping of the TC+CT clusters (\"ffb_c\" & \"hrc_s/hrc_t\");\n",
    "Otherwise, the algorithm places all thalamic regions below or above all cortical regions'''\n",
    "\n",
    "dfVT.loc[(dfVT.Antero_Retro == \"R\"),\"ffb_c\"]=dfVT[(dfVT.Antero_Retro == \"R\")].RetroCluster.apply(ffb_c_CT)\n",
    "dfVT.loc[(dfVT.Antero_Retro == \"R\"),\"ffb_nc\"]=dfVT[(dfVT.Antero_Retro == \"R\")].RetroCluster.apply(ffb_nc_CT)\n",
    "dfVT.loc[(dfVT.Antero_Retro == \"A\"),\"ffb_c\"]=dfVT[(dfVT.Antero_Retro == \"A\")].AnteroCluster.apply(ffb_c_TC)\n",
    "dfVT.loc[(dfVT.Antero_Retro == \"A\"),\"ffb_nc\"]=dfVT[(dfVT.Antero_Retro == \"A\")].AnteroCluster.apply(ffb_nc_TC)\n",
    "\n",
    "dfVT.loc[:,\"hrc_s\"]=dfVT[\"source\"].apply(hrcf)\n",
    "dfVT.loc[:,\"hrc_t\"]=dfVT[\"target\"].apply(hrcf)\n",
    "dfVT.loc[:,\"hr_s\"]=dfVT[\"source\"].apply(hrf)\n",
    "dfVT.loc[:,\"hr_t\"]=dfVT[\"target\"].apply(hrf)\n",
    "\n",
    "conf = confidence(dfVT)\n",
    "\n",
    "dfVT.to_excel(output_dir+'inputexpanded_TCCT_'+module+'.xlsx')"
   ]
  },
  {
   "cell_type": "markdown",
   "id": "b622cde9",
   "metadata": {},
   "source": [
    "# Find hierarchy scores of thalamic areas within a module or of modules\n"
   ]
  },
  {
   "cell_type": "code",
   "execution_count": null,
   "id": "9758132d",
   "metadata": {},
   "outputs": [],
   "source": [
    "areas = dfV1[\"source\"].unique()\n",
    "n_areas=len(areas) \n",
    "hrs=list(range(0,n_areas))\n",
    "hrt=list(range(0,n_areas))\n",
    "hrc=list(range(0,n_areas))\n",
    "\n",
    "for i in range(0,n_areas):\n",
    "    hrs[i]=-np.mean(dfVT[dfVT.source == areas[i]].ffb_c)\n",
    "    if len(dfVT[dfVT.target == areas[i]]) != 0:\n",
    "        hrt[i]=np.mean(dfVT[dfVT.target == areas[i]].ffb_c)\n",
    "    else:\n",
    "        hrt[i]=0\n",
    "    hrc[i]=(hrs[i]+hrt[i])/2\n",
    "    \n",
    "data=[areas,hrc]\n",
    "data=np.transpose(data)\n",
    "columns = ['areas','h']\n",
    "dfiT = pd.DataFrame(data,columns=columns)\n",
    "dfiT.head()\n",
    "\n",
    "#dfiT.to_excel(output_dir+'initialhierarchy_TCCT_'+module+'.xlsx')"
   ]
  },
  {
   "cell_type": "markdown",
   "id": "6653a412",
   "metadata": {},
   "source": [
    "# Iterate thalamic + cortical hierarchy scores\n"
   ]
  },
  {
   "cell_type": "code",
   "execution_count": null,
   "id": "f77bd2af",
   "metadata": {},
   "outputs": [],
   "source": [
    "n_iter = 20\n",
    "\n",
    "if CreConf == 1:\n",
    "    dfiC = pd.read_excel(output_dir+\"CC_conf_iter_\"+module+\".xlsx\")\n",
    "elif CreConf == 0:\n",
    "    dfiC = pd.read_excel(output_dir+\"CC_noconf_iter_\"+module+\".xlsx\")\n",
    "\n",
    "dfiC['h'] = dfiC[n_iter]\n",
    "dfVC = pd.read_excel(output_dir+\"inputexpanded_CC_\"+module+\".xlsx\")\n",
    "dfVC = dfVC[[\"source\",\"target\",\"ffb_nc\",\"ffb_c\"]]\n",
    "\n",
    "if CreConf == 1:\n",
    "    dfVC[\"ffb\"] = dfVC[\"ffb_c\"]\n",
    "elif CreConf == 0:\n",
    "    dfVC[\"ffb\"] = dfVC[\"ffb_nc\"]\n",
    "\n",
    "dfVT[\"ffb\"] = dfVT[\"ffb_c\"]\n",
    "\n",
    "dfiT = dfiT[[\"areas\",\"h\"]]\n",
    "dfiC = dfiC[[\"areas\",\"h\"]]\n",
    "dfVT = dfVT[[\"source\",\"target\",\"ffb\"]]\n",
    "dfVC = dfVC[[\"source\",\"target\",\"ffb\"]]\n",
    "\n",
    "hr_iter = iterativeTCCT(dfiC, dfVC, dfiT, dfVT, n_iter)\n",
    "\n",
    "iteration=np.arange(0,n_iter+1,1)\n",
    "n_area=np.shape(hr_iter)[0]\n",
    "allareas = hr_iter[\"areas\"].unique()\n",
    "\n",
    "\"\"\" Figure of hierarchy score iterations \"\"\"\n",
    "fig,ax=plt.subplots()\n",
    "for i in range(0,n_area):\n",
    "    y=np.squeeze(np.asarray(hr_iter[hr_iter.areas==allareas[i]].iloc[:,1::1]))\n",
    "    ax.plot(iteration,y)\n",
    "ax.set_xlim([0, n_iter])\n",
    "ax.set_xticks(np.arange(0, n_iter, step=5))\n",
    "ax.set_xlabel('iter')\n",
    "ax.set_ylabel('hierarchy value')\n",
    "ax.set_title('confidence adjusted')\n",
    "plt.show()\n",
    "\n",
    "\"\"\" Figure showing correlation between hierarchy scores before & after iterations\"\"\"\n",
    "hr_final = hr_iter[:][n_iter]\n",
    "hr_initial = hr_iter[:][0]   \n",
    "f = plt.figure()\n",
    "plt.plot(hr_initial,hr_final,'ro')\n",
    "plt.xlabel('initial hierarchy (conf)')\n",
    "plt.ylabel('final hierarchy (conf)')\n",
    "plt.title('r='+str(np.corrcoef(hr_initial, hr_final)[0, 1]))\n",
    "plt.show()\n",
    "\n",
    "'''Save hierarchy scores before and after iteration'''\n",
    "\n",
    "for i_area in range(0,n_area):\n",
    "    if hr_iter['areas'][i_area] in list(dfiC['areas']):\n",
    "        hr_iter.loc[i_area,'CortexThalamus'] = 'C'\n",
    "    else:\n",
    "        hr_iter.loc[i_area,'CortexThalamus'] = 'T'\n",
    "\n",
    "hr_iter = hr_iter[['areas','CortexThalamus', 0,n_iter] ]  \n",
    "hr_iter_save = hr_iter #hr_iter[(hr_iter.CortexThalamus=='C')]\n",
    "\n",
    "if CreConf == 1:\n",
    "    hr_iter_save.to_excel(output_dir+'TCCT_CCconf_iter_'+module+'.xlsx')\n",
    "elif CreConf == 0: \n",
    "    hr_iter_save.to_excel(output_dir+'TCCT_CCnoconf_iter_'+module+'.xlsx')"
   ]
  },
  {
   "cell_type": "markdown",
   "id": "e447cd2a",
   "metadata": {},
   "source": [
    " # Print out global hierarchy scores of CC + TCCT connectivity data before and after iteration\n"
   ]
  },
  {
   "cell_type": "code",
   "execution_count": null,
   "id": "9ff6e4f7",
   "metadata": {},
   "outputs": [],
   "source": [
    "dfi_TCCT = hr_iter[[\"CortexThalamus\",\"areas\",0,n_iter]]\n",
    "dfi_TCCT = dfi_TCCT.rename(columns={0: \"h0\", n_iter:\"h_iter\"})\n",
    "\n",
    "dfV_CC = dfVC[['source','target','ffb']]\n",
    "dfV_TCCT = dfVT[[\"source\",\"target\",\"ffb\"]]\n",
    "\n",
    "\n",
    "dfi_cortex1 = dfi_TCCT[(dfi_TCCT.CortexThalamus == 'C')]\n",
    "dfi_cortex1 = dfi_cortex1[['areas','h_iter']]\n",
    "dfV_CC = dfV_CC.join(dfi_cortex1.set_index('areas'), on ='source')\n",
    "dfV_CC=dfV_CC.rename(columns={\"h_iter\": \"hs\"})\n",
    "dfV_CC = dfV_CC.join(dfi_cortex1.set_index('areas'), on ='target')\n",
    "dfV_CC=dfV_CC.rename(columns={\"h_iter\": \"ht\"})\n",
    "dfV_CC = dfV_CC.dropna() \n",
    "hg_CC_1 = dfV_CC.ffb*(dfV_CC.ht- dfV_CC.hs)\n",
    "\n",
    "dfi_thalamus1=dfi_TCCT[(dfi_TCCT.CortexThalamus == 'T')]\n",
    "dfi_thalamus1 = dfi_thalamus1[['areas','h_iter']]\n",
    "dfV_TCCT = dfV_TCCT.join(dfi_thalamus1.set_index('areas'), on ='source')\n",
    "dfV_TCCT=dfV_TCCT.rename(columns={\"h_iter\": \"hs\"})\n",
    "dfV_TCCT = dfV_TCCT.join(dfi_cortex1.set_index('areas'), on ='target')\n",
    "dfV_TCCT=dfV_TCCT.rename(columns={\"h_iter\": \"ht\"})\n",
    "dfV_TCCT = dfV_TCCT.dropna() \n",
    "hg_TCCT_1 = dfV_TCCT.ffb*(dfV_TCCT.ht- dfV_TCCT.hs)\n",
    "\n",
    "hg_cortex_TCCT_iter = np.mean(hg_CC_1)\n",
    "hg_TCCT_iter = np.mean(pd.concat([hg_CC_1, hg_TCCT_1]))\n",
    "\n",
    "\n",
    "dfV_CC = dfVC[['source','target','ffb']]\n",
    "dfV_TCCT = dfVT[[\"source\",\"target\",\"ffb\"]]\n",
    "\n",
    "dfi_cortex1 = dfi_TCCT[(dfi_TCCT.CortexThalamus == 'C')]\n",
    "dfi_cortex1 = dfi_cortex1[['areas','h0']]\n",
    "dfV_CC = dfV_CC.join(dfi_cortex1.set_index('areas'), on ='source')\n",
    "dfV_CC=dfV_CC.rename(columns={\"h0\": \"hs\"})\n",
    "dfV_CC = dfV_CC.join(dfi_cortex1.set_index('areas'), on ='target')\n",
    "dfV_CC=dfV_CC.rename(columns={\"h0\": \"ht\"})\n",
    "dfV_CC = dfV_CC.dropna() \n",
    "hg_CC_1 = dfV_CC.ffb*(dfV_CC.ht- dfV_CC.hs)\n",
    "\n",
    "dfi_thalamus1=dfi_TCCT[(dfi_TCCT.CortexThalamus == 'T')]\n",
    "dfi_thalamus1 = dfi_thalamus1[['areas','h0']]\n",
    "dfV_TCCT = dfV_TCCT.join(dfi_thalamus1.set_index('areas'), on ='source')\n",
    "dfV_TCCT=dfV_TCCT.rename(columns={\"h0\": \"hs\"})\n",
    "dfV_TCCT = dfV_TCCT.join(dfi_cortex1.set_index('areas'), on ='target')\n",
    "dfV_TCCT=dfV_TCCT.rename(columns={\"h0\": \"ht\"})\n",
    "dfV_TCCT = dfV_TCCT.dropna() \n",
    "hg_TCCT_1 = dfV_TCCT.ffb*(dfV_TCCT.ht- dfV_TCCT.hs)\n",
    "\n",
    "hg_cortex_TCCT_init = np.mean(hg_CC_1)\n",
    "hg_TCCT_init  = np.mean(pd.concat([hg_CC_1, hg_TCCT_1]))\n",
    "\n",
    "\n",
    "print('hg of CC+TC+CT before iterate cortex & thalamus='+str(hg_TCCT_init))\n",
    "print('hg of CC+TC+CT iterate cortex='+str(hg_cortex_TCCT_iter)) \n",
    "print('hg of CC+TC+CT iterate cortex & thalamus='+str(hg_TCCT_iter))\n",
    "\n",
    "'''Save global hierarchy scores'''\n",
    "newDF= pd.DataFrame([])\n",
    "newDF=pd.concat([newDF, pd.DataFrame({'hg_TCCT_init':hg_TCCT_init,\n",
    "                                 'hg_cortex_TCCT_iter':hg_cortex_TCCT_iter, 'hg_TCCT_iter':hg_TCCT_iter},index=[0])])\n",
    "newDF.to_excel(output_dir+'ghs_TCCT_'+module+'.xlsx')"
   ]
  }
 ],
 "metadata": {
  "kernelspec": {
   "display_name": "Python 3 (ipykernel)",
   "language": "python",
   "name": "python3"
  },
  "language_info": {
   "codemirror_mode": {
    "name": "ipython",
    "version": 3
   },
   "file_extension": ".py",
   "mimetype": "text/x-python",
   "name": "python",
   "nbconvert_exporter": "python",
   "pygments_lexer": "ipython3",
   "version": "3.9.12"
  }
 },
 "nbformat": 4,
 "nbformat_minor": 5
}
