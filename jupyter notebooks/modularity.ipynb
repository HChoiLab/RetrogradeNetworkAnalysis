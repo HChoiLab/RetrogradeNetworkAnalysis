{
 "cells": [
  {
   "cell_type": "code",
   "execution_count": null,
   "id": "3714496b",
   "metadata": {},
   "outputs": [],
   "source": [
    "import numpy as np\n",
    "import matplotlib.pyplot as plt\n",
    "import pandas as pd\n",
    "import bct as bct\n",
    "\n",
    "\"\"\"\n",
    "Published on Sat Mar 2 19:03:31 2024\n",
    "\n",
    "@author: Eric Li\n",
    "\"\"\"\n",
    "\"\"\"\n",
    "This code generates modules of the anterograde, retrograde, and averaged cortical connection \n",
    "matrices and compares their modularity scores to those of shuffled versions.\n",
    "\"\"\""
   ]
  },
  {
   "cell_type": "markdown",
   "id": "dde5345f",
   "metadata": {},
   "source": [
    "# Set input and output directories"
   ]
  },
  {
   "cell_type": "code",
   "execution_count": null,
   "id": "abdf6d95",
   "metadata": {},
   "outputs": [],
   "source": [
    "input_dir = r'./Input/'\n",
    "output_dir = r'./Output/'"
   ]
  },
  {
   "cell_type": "markdown",
   "id": "41e9af04",
   "metadata": {},
   "source": [
    "# Read and preprocess excel file with connection matrices. Set all NaN values to zero and obtain cortical areas. Transpose retrograde and combined matrices."
   ]
  },
  {
   "cell_type": "code",
   "execution_count": null,
   "id": "b1b365d7",
   "metadata": {},
   "outputs": [],
   "source": [
    "xls1=pd.ExcelFile(input_dir+\"combined_ipsi_October3.xlsx\")\n",
    "\n",
    "df1=pd.read_excel(xls1,'in')\n",
    "df1 = df1.set_index(\"target\")\n",
    "\n",
    "xls2=pd.ExcelFile(input_dir+\"antero_ipsi.xlsx\")\n",
    "\n",
    "df2=pd.read_excel(xls2,'antero_ipsi')\n",
    "df2 = df2.iloc[:, 1:]\n",
    "df2 = df2.set_index(\"source_area\")\n",
    "\n",
    "xls3=pd.ExcelFile(input_dir+\"retro_ipsi.xlsx\")\n",
    "\n",
    "df3=pd.read_excel(xls3,'retro_ipsi')\n",
    "df3 = df3.set_index(\"target\")\n",
    "\n",
    "df1 = df1.drop(\"PERI\", axis = 0)\n",
    "df1 = df1.drop(\"PERI\", axis = 1)\n",
    "df2 = df2.drop(\"PERI\", axis = 0)\n",
    "df2 = df2.drop(\"PERI\", axis = 1)\n",
    "df3 = df3.drop(\"PERI\", axis = 0)\n",
    "df3 = df3.drop(\"PERI\", axis = 1)\n",
    "\n",
    "areas = df1.columns.values\n",
    "\n",
    "cortical_areas = areas[:42]\n",
    "matrix_cortical = df1.iloc[:42, :42]\n",
    "antero_cortical = df2.iloc[:42, :42]\n",
    "retro_cortical = df3.iloc[:42, :42]\n",
    "\n",
    "matrix_nan = np.isnan(matrix_cortical.values)\n",
    "antero_nan = np.isnan(antero_cortical.values)\n",
    "retro_nan = np.isnan(retro_cortical.values)\n",
    "\n",
    "matrix_cortical.iloc[matrix_nan] = 0\n",
    "antero_cortical.iloc[antero_nan] = 0\n",
    "retro_cortical.iloc[retro_nan] = 0\n",
    "\n",
    "m = matrix_cortical.values\n",
    "m = np.transpose(m)\n",
    "a = antero_cortical.values\n",
    "r = retro_cortical.values\n",
    "r = np.transpose(r)"
   ]
  },
  {
   "cell_type": "markdown",
   "id": "36e1273f",
   "metadata": {},
   "source": [
    "# Create shuffled version of cortical connection matrices"
   ]
  },
  {
   "cell_type": "code",
   "execution_count": null,
   "id": "76601c20",
   "metadata": {},
   "outputs": [],
   "source": [
    "matrix_cortical_shuffled = matrix_cortical.sample(frac=1).reset_index(drop=True)\n",
    "matrix_cortical_shuffled = matrix_cortical_shuffled.sample(frac=1, axis=1).reset_index(drop=True)\n",
    "\n",
    "antero_cortical_shuffled = antero_cortical.sample(frac=1).reset_index(drop=True)\n",
    "antero_cortical_shuffled = antero_cortical_shuffled.sample(frac=1, axis=1).reset_index(drop=True)\n",
    "\n",
    "retro_cortical_shuffled = retro_cortical.sample(frac=1).reset_index(drop=True)\n",
    "retro_cortical_shuffled = retro_cortical_shuffled.sample(frac=1, axis=1).reset_index(drop=True)\n",
    "\n",
    "m_shuffled = matrix_cortical_shuffled.values\n",
    "m_shuffled = np.transpose(m_shuffled)\n",
    "a_shuffled = antero_cortical_shuffled.values\n",
    "r_shuffled = retro_cortical_shuffled.values\n",
    "r_shuffled = np.transpose(r_shuffled)"
   ]
  },
  {
   "cell_type": "markdown",
   "id": "23667a3c",
   "metadata": {},
   "source": [
    "# Obtain communities using Louvain Algorithm and compare to shuffled matrices."
   ]
  },
  {
   "cell_type": "code",
   "execution_count": null,
   "id": "7e450a43",
   "metadata": {},
   "outputs": [],
   "source": [
    "name = 'retrograde modularity'\n",
    "\n",
    "num = 16\n",
    "data_mod_scores = np.zeros([num, 2])\n",
    "shuffled_mod_scores = np.zeros([num, 2])\n",
    "g = 0\n",
    "for i in range(num):\n",
    "    [[community], mod_score] = bct.modularity_louvain_dir(r, gamma=g, hierarchy=True, seed=1234)\n",
    "    [[community_shuffled], mod_score_shuffled] = bct.modularity_louvain_dir(r_shuffled, gamma=g, hierarchy=True)\n",
    "    data_mod_scores[i, 0] = i*0.1\n",
    "    data_mod_scores[i, 1] = mod_score[0]\n",
    "    shuffled_mod_scores[i, 0] = i*0.1\n",
    "    shuffled_mod_scores[i, 1] = mod_score_shuffled[0]\n",
    "    g += 0.1\n",
    "    \n",
    "max_gamma = np.argmax(data_mod_scores[:, 1] - shuffled_mod_scores[:, 1])\n",
    "max_gamma_value = np.max(data_mod_scores[:, 1] - shuffled_mod_scores[:, 1])   \n",
    "\n",
    "fig, ax = plt.subplots()\n",
    "ax.plot(data_mod_scores[:, 0], data_mod_scores[:, 1], color = 'red', label = 'data')\n",
    "ax.plot(shuffled_mod_scores[:, 0], shuffled_mod_scores[:, 1], color = 'blue', label = 'shuffled')\n",
    "ax.set_xlabel('gamma')\n",
    "ax.set_ylabel('modularity score')\n",
    "ax.set_title(name)\n",
    "ax.legend()\n",
    "#fig.savefig(output_dir+name+\".svg\", format=\"svg\")\n",
    "\n",
    "[[community], mod_score] = bct.modularity_louvain_dir(r, gamma=data_mod_scores[max_gamma][0], hierarchy=True)\n",
    "\n",
    "num_communities = len(np.unique(community))\n",
    "list_communities = []\n",
    "for i in range(num_communities):\n",
    "    list_communities.append([])\n",
    "\n",
    "for i in range(len(cortical_areas)):\n",
    "    community_number = community[i]\n",
    "    list_communities[community_number-1].append(cortical_areas[i])\n",
    "for module in list_communities:\n",
    "    print(module)"
   ]
  }
 ],
 "metadata": {
  "kernelspec": {
   "display_name": "Python 3 (ipykernel)",
   "language": "python",
   "name": "python3"
  },
  "language_info": {
   "codemirror_mode": {
    "name": "ipython",
    "version": 3
   },
   "file_extension": ".py",
   "mimetype": "text/x-python",
   "name": "python",
   "nbconvert_exporter": "python",
   "pygments_lexer": "ipython3",
   "version": "3.9.12"
  }
 },
 "nbformat": 4,
 "nbformat_minor": 5
}
