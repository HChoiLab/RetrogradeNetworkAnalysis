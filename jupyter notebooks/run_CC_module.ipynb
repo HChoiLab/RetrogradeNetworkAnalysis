{
 "cells": [
  {
   "cell_type": "code",
   "execution_count": null,
   "id": "291dde19",
   "metadata": {},
   "outputs": [],
   "source": [
    "import logging\n",
    "import numpy as np\n",
    "import matplotlib.pyplot as plt\n",
    "import pandas as pd\n",
    "from func_unsupervised_CC_retro import fit_retro\n",
    "from func_unsupervised_CC_antero import fit_antero\n",
    "from IterativeMethod import iterativeCC\n",
    "\n",
    "\"\"\"\n",
    "Published on Sat Mar 2 16:48:25 2024\n",
    "\n",
    "@author: Eric Li, Hannah Choi\n",
    "\"\"\"\n",
    "\"\"\"\n",
    "This code finds intra- or inter-module hierarchies of cortical network \n",
    "by maximizing the global hierarchy score followed by iterations, \n",
    "based on the cortico-cortical (CC) connectivity data.\n",
    "\"\"\""
   ]
  },
  {
   "cell_type": "markdown",
   "id": "214a76bf",
   "metadata": {},
   "source": [
    "# Set input and output directories \n"
   ]
  },
  {
   "cell_type": "code",
   "execution_count": null,
   "id": "ffcd6e9a",
   "metadata": {},
   "outputs": [],
   "source": [
    "CreConf = 1 # 1 if using CC hierarchy with Cre-confidence; 0 if not\n",
    "\n",
    "input_dir = r'./Input/'        # Directory with the file \"AnteroRetro_CC_TC_CT_clusters.xlsx\" & \"clustermapping.xlsx\"\n",
    "output_dir = r'./Output/module/'      # Directory to save the outputs from the experimental data"
   ]
  },
  {
   "cell_type": "markdown",
   "id": "2e77a05c",
   "metadata": {},
   "source": [
    "# Define the module. \n"
   ]
  },
  {
   "cell_type": "code",
   "execution_count": null,
   "id": "aa801082",
   "metadata": {},
   "outputs": [],
   "source": [
    "module = 'inter_predefined'\n",
    "\n",
    "# In the paper, we used the following: 'Visual' & 'inter_predefined'\n",
    "# Possible modules: 'Visual', 'Medial', 'Auditory', 'Somatomotor', 'PFC', 'inter_predefined', 'inter'"
   ]
  },
  {
   "cell_type": "markdown",
   "id": "d84fe5be",
   "metadata": {},
   "source": [
    "# Clusters of cortico-cortical source-line-target pairs\n"
   ]
  },
  {
   "cell_type": "code",
   "execution_count": null,
   "id": "9aa5f88d",
   "metadata": {},
   "outputs": [],
   "source": [
    "xls=pd.ExcelFile(input_dir+\"AnteroRetro_CC_TC_CT_clusters.xlsx\")\n",
    "df=pd.read_excel(xls,'anteroCCTC_retroCCCT')\n",
    "df = df[(df[\"Target Major Division\"] == \"isocortex\")&(df[\"Source Major Division\"] == \"isocortex\")] # C-C connections"
   ]
  },
  {
   "cell_type": "markdown",
   "id": "e58f223e",
   "metadata": {},
   "source": [
    "# Use modules found by retrograde analysis"
   ]
  },
  {
   "cell_type": "code",
   "execution_count": null,
   "id": "2c0761a6",
   "metadata": {},
   "outputs": [],
   "source": [
    "df.loc[((df[\"source\"] == \"VISal\")|(df[\"source\"] == \"VISl\")|(df[\"source\"] == \"VISp\")|(df[\"source\"] == \"VISpl\")\n",
    "        |(df[\"source\"] == \"VISli\")|(df[\"source\"] == \"VISpor\")|(df[\"source\"] == \"VISrl\")|(df[\"source\"] == \"VISa\")\n",
    "        |(df[\"source\"] == \"VISam\")|(df[\"source\"] == \"VISpm\")),\"Cortical Source Module\"]='Visual'\n",
    "df.loc[((df[\"target\"] == \"VISal\")|(df[\"target\"] == \"VISl\")|(df[\"target\"] == \"VISp\")|(df[\"target\"] == \"VISpl\")\n",
    "        |(df[\"target\"] == \"VISli\")|(df[\"target\"] == \"VISpor\")|(df[\"target\"] == \"VISrl\")|(df[\"target\"] == \"VISa\")\n",
    "        |(df[\"target\"] == \"VISam\")|(df[\"target\"] == \"VISpm\")),\"Cortical Target Module\"]='Visual'\n",
    "\n",
    "df.loc[((df[\"source\"] == \"GU\")|(df[\"source\"] == \"VISC\")|(df[\"source\"] == \"SSs\")|(df[\"source\"] == \"SSp-bfd\")\n",
    "        |(df[\"source\"] == \"SSp-ll\")|(df[\"source\"] == \"SSp-ul\")|(df[\"source\"] == \"SSp-un\")|(df[\"source\"] == \"SSp-n\")\n",
    "        |(df[\"source\"] == \"SSp-m\")|(df[\"source\"] == \"MOp\")|(df[\"source\"] == \"MOs\")),\"Cortical Source Module\"]='Somatomotor'\n",
    "df.loc[((df[\"target\"] == \"GU\")|(df[\"target\"] == \"VISC\")|(df[\"target\"] == \"SSs\")|(df[\"target\"] == \"SSp-bfd\")\n",
    "        |(df[\"target\"] == \"SSp-ll\")|(df[\"target\"] == \"SSp-ul\")|(df[\"target\"] == \"SSp-un\")|(df[\"target\"] == \"SSp-n\")\n",
    "        |(df[\"target\"] == \"SSp-m\")|(df[\"target\"] == \"MOp\")|(df[\"target\"] == \"MOs\")),\"Cortical Target Module\"]='Somatomotor'\n",
    "\n",
    "df.loc[((df[\"source\"] == \"FRP\")|(df[\"source\"] == \"PL\")|(df[\"source\"] == \"ILA\")|(df[\"source\"] == \"ORBl\")\n",
    "        |(df[\"source\"] == \"ORBm\")|(df[\"source\"] == \"ORBvl\")|(df[\"source\"] == \"AId\")|(df[\"source\"] == \"AIv\")\n",
    "        |(df[\"source\"] == \"AIp\")|(df[\"source\"] == \"ECT\")|(df[\"source\"] == \"PERI\")),\"Cortical Source Module\"]='PFC'\n",
    "df.loc[((df[\"target\"] == \"FRP\")|(df[\"target\"] == \"PL\")|(df[\"target\"] == \"ILA\")|(df[\"target\"] == \"ORBl\")\n",
    "        |(df[\"target\"] == \"ORBm\")|(df[\"target\"] == \"ORBvl\")|(df[\"target\"] == \"AId\")|(df[\"target\"] == \"AIv\")\n",
    "        |(df[\"target\"] == \"AIp\")|(df[\"target\"] == \"ECT\")|(df[\"target\"] == \"PERI\")),\"Cortical Target Module\"]='PFC'\n",
    "\n",
    "df.loc[((df[\"source\"] == \"ACAd\")|(df[\"source\"] == \"ACAv\")|(df[\"source\"] == \"SSp-tr\")|(df[\"source\"] == \"RSPagl\")\n",
    "        |(df[\"source\"] == \"RSPd\")|(df[\"source\"] == \"RSPv\")),\"Cortical Source Module\"]='Medial'\n",
    "df.loc[((df[\"target\"] == \"ACAd\")|(df[\"target\"] == \"ACAv\")|(df[\"target\"] == \"SSp-tr\")|(df[\"target\"] == \"RSPagl\")\n",
    "        |(df[\"target\"] == \"RSPd\")|(df[\"target\"] == \"RSPv\")),\"Cortical Target Module\"]='Medial'\n",
    "\n",
    "df.loc[((df[\"source\"] == \"TEa\")|(df[\"source\"] == \"AUDd\")|(df[\"source\"] == \"AUDp\")|(df[\"source\"] == \"AUDpo\")\n",
    "        |(df[\"source\"] == \"AUDv\")),\"Cortical Source Module\"]='Auditory'\n",
    "df.loc[((df[\"target\"] == \"TEa\")|(df[\"target\"] == \"AUDd\")|(df[\"target\"] == \"AUDp\")|(df[\"target\"] == \"AUDpo\")\n",
    "        |(df[\"target\"] == \"AUDv\")),\"Cortical Target Module\"]='Auditory'\n",
    "\n",
    "list_module = df[\"Cortical Target Module\"].unique()\n",
    "clu_ffb=pd.read_excel(input_dir+\"clustermapping.xlsx\")\n",
    "\n",
    "if CreConf == 1:\n",
    "    clu_ffb = clu_ffb.rename(columns={'CC_conf_antero': 'ffb_antero'})\n",
    "    clu_ffb = clu_ffb.rename(columns={'CC_conf_retro': 'ffb_retro'})\n",
    "elif CreConf == 0:\n",
    "    clu_ffb = clu_ffb.rename(columns={'CC_noconf_antero': 'ffb_antero'})\n",
    "    clu_ffb = clu_ffb.rename(columns={'CC_noconf_retro': 'ffb_retro'})"
   ]
  },
  {
   "cell_type": "markdown",
   "id": "e9c10308",
   "metadata": {},
   "source": [
    "# For intra-module, select only the areas within the chosen module\n"
   ]
  },
  {
   "cell_type": "code",
   "execution_count": null,
   "id": "b5504b53",
   "metadata": {},
   "outputs": [],
   "source": [
    "if (module != 'inter') and (module != 'inter_predefined'):    \n",
    "    df = df[(df[\"Cortical Target Module\"] == module)&(df[\"Cortical Source Module\"] == module)]"
   ]
  },
  {
   "cell_type": "markdown",
   "id": "7533bf6f",
   "metadata": {},
   "source": [
    "# If inter-module, change all the target & source area names to the module name\n"
   ]
  },
  {
   "cell_type": "code",
   "execution_count": null,
   "id": "a9513210",
   "metadata": {},
   "outputs": [],
   "source": [
    "if (module == 'inter') or (module == 'inter_predefined'): \n",
    "    for i_module in range(0,len(list_module)):\n",
    "        df.loc[df[\"Cortical Target Module\"] == list_module[i_module],'target'] = list_module[i_module]\n",
    "        df.loc[df[\"Cortical Source Module\"] == list_module[i_module],'source'] = list_module[i_module] "
   ]
  },
  {
   "cell_type": "markdown",
   "id": "b8e27438",
   "metadata": {},
   "source": [
    "# Trim the dataframe \n"
   ]
  },
  {
   "cell_type": "code",
   "execution_count": null,
   "id": "14f26d11",
   "metadata": {},
   "outputs": [],
   "source": [
    "df_antero=df[(df.Antero_Retro == \"A\")] \n",
    "df_antero=df_antero[(df_antero.hemi ==\"ipsi\")&(df_antero.creline != \"C57BL/6J / Emx1\")&(df_antero.target != \"VISC\")&(df_antero.source != \"SSp-un\")&(df_antero.target != \"SSp-un\")&(df_antero.source != \"VISC\")] # Consider ipsilateral, Cre connectivity data only\n",
    "df_antero = df_antero[(df_antero[\"Target Major Division\"] == \"isocortex\")&(df_antero[\"Source Major Division\"] == \"isocortex\")] # Consider C-C connections only\n",
    "\n",
    "dfV1 = df_antero[['Antero_Retro','source','target','creline','AnteroCluster']]\n",
    "\n",
    "dfV1 = dfV1.reset_index(drop=True)\n",
    "dfV1['AnteroCluster'] = dfV1['AnteroCluster'].apply(np.int64)\n",
    "\n",
    "df_retro=df[(df.Antero_Retro == \"R\")] \n",
    "df_retro = df_retro[(df_retro[\"Target Major Division\"] == \"isocortex\")&(df_retro[\"Source Major Division\"] == \"isocortex\")]  # Consider C-C connections only\n",
    "dfV2 = df_retro[['Antero_Retro','source','target','creline','RetroCluster']]\n",
    "\n",
    "dfV2 = dfV2.reset_index(drop=True)\n",
    "dfV2['RetroCluster'] = dfV2['RetroCluster'].apply(np.int64)\n",
    "\n",
    "frames = [dfV1, dfV2]\n",
    "dfV = pd.concat(frames)\n",
    "dfV['AnteroCluster'] = dfV['AnteroCluster'].astype('Int64')\n",
    "dfV['RetroCluster'] = dfV['RetroCluster'].astype('Int64')\n",
    "\n",
    "num_clu_antero = len(dfV[\"AnteroCluster\"].unique())-1\n",
    "num_clu_retro = len(dfV[\"RetroCluster\"].unique())-1\n",
    "\n",
    "source_areas = dfV[\"source\"].unique()\n",
    "target_areas = dfV[\"target\"].unique()\n",
    "\n",
    "dfV_antero = dfV1[[\"source\",\"target\",\"creline\",\"AnteroCluster\", \"Antero_Retro\"]].copy()\n",
    "dfV_retro = dfV2[[\"source\",\"target\",\"creline\",\"RetroCluster\", \"Antero_Retro\"]].copy()"
   ]
  },
  {
   "cell_type": "markdown",
   "id": "60dc6b15",
   "metadata": {},
   "source": [
    "# If inter-module, we may want to find the mapping rule, that is not pre-defined\n"
   ]
  },
  {
   "cell_type": "code",
   "execution_count": null,
   "id": "a9d02aa2",
   "metadata": {},
   "outputs": [],
   "source": [
    "if module == 'inter':\n",
    "    logging.debug(\"performing initial hierarchy assignment\")\n",
    "    hierarchy_vals_antero = fit_antero(dfV1)\n",
    "\n",
    "    jmax_raw_antero, jmax_antero = np.argmax(hierarchy_vals_antero, axis=0)\n",
    "    jmax_raw_val_antero = hierarchy_vals_antero[jmax_raw_antero][0]\n",
    "    jmax_val_antero = hierarchy_vals_antero[jmax_antero][1]\n",
    "    logging.debug(\"RESULTS\")\n",
    "    n = len(dfV1.AnteroCluster.unique())\n",
    "    logging.debug(\"(jmax_raw_antero, val) = ({:0{n}b}, {:.3f})\".format(jmax_raw_antero, jmax_raw_val_antero, n=n))\n",
    "    logging.debug(\"(jmax_antero,     val) = ({:0{n}b}, {:.3f})\".format(jmax_antero, jmax_val_antero, n=n))\n",
    "    \n",
    "    results = dict(jmax_antero=bin(2**n+jmax_antero),\n",
    "                   jmax_val_antero=jmax_val_antero,\n",
    "                   jmax_raw_antero=bin(2**n+jmax_raw_antero),\n",
    "                   jmax_raw_val_antero=jmax_raw_val_antero)\n",
    "    hrc_original_antero = jmax_val_antero\n",
    "    hr_original_antero = jmax_raw_val_antero\n",
    "    print(results)\n",
    "    \n",
    "    hierarchy_vals_retro = fit_retro(dfV2)\n",
    "\n",
    "    jmax_raw_retro, jmax_retro = np.argmax(hierarchy_vals_retro, axis=0)\n",
    "    jmax_raw_val_retro = hierarchy_vals_retro[jmax_raw_retro][0]\n",
    "    jmax_val_retro = hierarchy_vals_retro[jmax_retro][1]\n",
    "    logging.debug(\"RESULTS\")\n",
    "    n = len(dfV2.RetroCluster.unique())\n",
    "    logging.debug(\"(jmax_raw_retro, val) = ({:0{n}b}, {:.3f})\".format(jmax_raw_retro, jmax_raw_val_retro, n=n))\n",
    "    logging.debug(\"(jmax_retro,     val) = ({:0{n}b}, {:.3f})\".format(jmax_retro, jmax_val_retro, n=n))\n",
    "    \n",
    "    results = dict(jmax_retro=bin(2**n+jmax_retro),\n",
    "                   jmax_val_retro=jmax_val_retro,\n",
    "                   jmax_raw_retro=bin(2**n+jmax_raw_retro),\n",
    "                   jmax_raw_val_retro=jmax_raw_val_retro)\n",
    "    hrc_original_retro = jmax_val_retro\n",
    "    hr_original_retro = jmax_raw_val_retro\n",
    "    print(results)"
   ]
  },
  {
   "cell_type": "markdown",
   "id": "282a971b",
   "metadata": {},
   "source": [
    "# Define functions needed. \n"
   ]
  },
  {
   "cell_type": "code",
   "execution_count": null,
   "id": "1764c40c",
   "metadata": {},
   "outputs": [],
   "source": [
    "c0a=2**num_clu_antero\n",
    "c0r=2**num_clu_retro\n",
    "\n",
    "def ffb_c_antero (cls):\n",
    "    \"\"\"Direction of each anterograde CC cluster with Cre-confidence\"\"\"\n",
    "    if module == 'inter':\n",
    "        b=(bin(c0a+jmax_antero)[-(cls)])\n",
    "        return (2*int(b)-1)\n",
    "    elif module != 'inter':\n",
    "        return int(clu_ffb[clu_ffb.clu == cls].ffb_antero)   \n",
    "\n",
    "def ffb_nc_antero (cls):\n",
    "    \"\"\"Direction of each anterograde CC cluster without Cre-confidence\"\"\"\n",
    "    if module == 'inter':\n",
    "        b=(bin(c0a+jmax_raw_antero)[-(cls)])\n",
    "        return (2*int(b)-1)\n",
    "    elif module != 'inter':\n",
    "        return int(clu_ffb[clu_ffb.clu == cls].ffb_antero)\n",
    "    \n",
    "def ffb_c_retro (cls):\n",
    "    \"\"\"Direction of each retrograde CC cluster with Cre-confidence\"\"\"\n",
    "    if module == 'inter':\n",
    "        b=(bin(c0r+jmax_retro)[-(cls)])\n",
    "        return (2*int(b)-1)\n",
    "    elif module != 'inter':\n",
    "        return int(clu_ffb[clu_ffb.clu == cls].ffb_retro)   \n",
    "\n",
    "def ffb_nc_retro (cls):\n",
    "    \"\"\"Direction of each retrograde CC cluster without Cre-confidence\"\"\"\n",
    "    if module == 'inter':\n",
    "        b=(bin(c0r+jmax_raw_retro)[-(cls)])\n",
    "        return (2*int(b)-1)\n",
    "    elif module != 'inter':\n",
    "        return int(clu_ffb[clu_ffb.clu == cls].ffb_retro)\n",
    "\n",
    "def cre_confidence1(df):\n",
    "    \"\"\"Returns confidence of cre lines\"\"\"\n",
    "    func = lambda x: 1 - np.abs(x.mean())\n",
    "    return df.groupby('creline')['ffb_c'].transform(func)\n",
    "\n",
    "def cre_confidence2(df):\n",
    "    \"\"\"Returns an alternative confidence of cre lines\"\"\"   \n",
    "    cre_list = df.creline.unique()\n",
    "    areas = df.source.unique()\n",
    "    n=len(areas)\n",
    "    confnew =pd.DataFrame(np.zeros(len(df.index)),index=df.index, columns=['conf'])\n",
    " \n",
    "    for kk in range(0,len(cre_list)):\n",
    "        df_cre = df[df.creline == cre_list[kk]]\n",
    "        print(cre_list[kk])\n",
    "        count_sym = 0\n",
    "        count_sameffb = 0\n",
    "        for ii in range(0,n):\n",
    "            for jj in range(ii+1,n):\n",
    "                ij_ffb = np.array(df_cre[(df.source == areas[ii])&(df.target == areas[jj])].ffb_c)\n",
    "                ji_ffb = np.array(df_cre[(df.source == areas[jj])&(df.target == areas[ii])].ffb_c)\n",
    "                if len(ij_ffb)==1 and len(ji_ffb)==1:\n",
    "                    count_sym = count_sym+1\n",
    "                    if ij_ffb == ji_ffb:\n",
    "                        count_sameffb = count_sameffb+1 \n",
    "        confnew[df.creline == cre_list[kk]] = 1-count_sameffb/count_sym\n",
    "    return confnew\n",
    "\n",
    "def hrf (area):\n",
    "    '''Hierarchy score of each area or module without Cre-confidence'''\n",
    "    return (-np.mean(dfV[dfV.source == area].ffb_nc)+np.mean(dfV[dfV.target == area].ffb_nc))/2\n",
    "\n",
    "def hrcf (area):\n",
    "    '''Hierarchy score of each area or module with Cre-confidence'''\n",
    "    return (-np.mean(dfV[dfV.source == area].ffb_c*dfV[dfV.source == area].conf)+np.mean(dfV[dfV.target == area].ffb_c*dfV[dfV.target == area].conf))/2"
   ]
  },
  {
   "cell_type": "markdown",
   "id": "a9ddbb0d",
   "metadata": {},
   "source": [
    "# Produce an expanded data frame with Cre-confidence, FF/FB, hierarchy values as source & target for each pair of CC connections\n"
   ]
  },
  {
   "cell_type": "code",
   "execution_count": null,
   "id": "ef221314",
   "metadata": {},
   "outputs": [],
   "source": [
    "dfV.loc[(dfV.Antero_Retro == \"R\"),\"ffb_c\"]=dfV[(dfV.Antero_Retro == \"R\")].RetroCluster.apply(ffb_c_retro)\n",
    "dfV.loc[(dfV.Antero_Retro == \"R\"),\"ffb_nc\"]=dfV[(dfV.Antero_Retro == \"R\")].RetroCluster.apply(ffb_nc_retro)\n",
    "dfV.loc[(dfV.Antero_Retro == \"A\"),\"ffb_c\"]=dfV[(dfV.Antero_Retro == \"A\")].AnteroCluster.apply(ffb_c_antero)\n",
    "dfV.loc[(dfV.Antero_Retro == \"A\"),\"ffb_nc\"]=dfV[(dfV.Antero_Retro == \"A\")].AnteroCluster.apply(ffb_nc_antero)\n",
    "dfV.loc[:, \"conf\"] = cre_confidence1(dfV)\n",
    "dfV.loc[:,\"hrc_s\"]=dfV[\"source\"].apply(hrcf)\n",
    "dfV.loc[:,\"hrc_t\"]=dfV[\"target\"].apply(hrcf)\n",
    "dfV.loc[:,\"hr_s\"]=dfV[\"source\"].apply(hrf)\n",
    "dfV.loc[:,\"hr_t\"]=dfV[\"target\"].apply(hrf)\n",
    "\n",
    "dfV.to_excel(output_dir+'inputexpanded_CC_'+module+'.xlsx')"
   ]
  },
  {
   "cell_type": "markdown",
   "id": "a1222002",
   "metadata": {},
   "source": [
    "# Find hierarchy scores of cortical areas within a module or of modules \n"
   ]
  },
  {
   "cell_type": "code",
   "execution_count": null,
   "id": "782f0df0",
   "metadata": {},
   "outputs": [],
   "source": [
    "areas = np.intersect1d(source_areas, target_areas)\n",
    "\n",
    "n_areas=len(areas)\n",
    "hrs=list(range(0,n_areas))\n",
    "hrt=list(range(0,n_areas))\n",
    "hr=list(range(0,n_areas))\n",
    "hrc=list(range(0,n_areas))\n",
    "for i in range(0,n_areas):\n",
    "    hrs[i]=-np.mean(dfV[dfV.source == areas[i]].ffb_nc)\n",
    "    hrt[i]=np.mean(dfV[dfV.target == areas[i]].ffb_nc)\n",
    "    hr[i]=(hrs[i]+hrt[i])/2\n",
    "    hrc[i]=0.5*(-np.mean(dfV[dfV.source == areas[i]].ffb_c*dfV[dfV.source == areas[i]].conf)+np.mean(dfV[dfV.target == areas[i]].ffb_c*dfV[dfV.target == areas[i]].conf))\n",
    "\n",
    "data=[areas,hrc,hr]\n",
    "data=np.transpose(data)\n",
    "columns = ['areas','hrc','hr']\n",
    "dfi = pd.DataFrame(data,columns=columns)\n",
    "dfi.head()\n",
    "\n",
    "#dfi.to_excel(output_dir+'initialhierarchy_CC_'+module+'.xlsx')"
   ]
  },
  {
   "cell_type": "markdown",
   "id": "f9210509",
   "metadata": {},
   "source": [
    "# Iterate cortical hierarchy scores to refine the hierarchy levels\n"
   ]
  },
  {
   "cell_type": "code",
   "execution_count": null,
   "id": "f1fce459",
   "metadata": {
    "scrolled": true
   },
   "outputs": [],
   "source": [
    "'''Iterations'''\n",
    "n_iter = 20\n",
    "hr_iter, hrc_iter = iterativeCC(dfi,dfV,n_iter)\n",
    "\n",
    "iteration=np.arange(0,n_iter+1,1)\n",
    "n_area=len(areas)\n",
    "\n",
    "\"\"\" Figure of hierarchy score iterations with Cre-confidence \"\"\"\n",
    "fig,ax=plt.subplots()\n",
    "for i in range(0,n_area):\n",
    "    y=np.squeeze(np.asarray(hrc_iter[hrc_iter.areas==areas[i]].iloc[:,1::1]))\n",
    "    ax.plot(iteration,y)\n",
    "\n",
    "ax.set_xlim([0, n_iter])\n",
    "ax.set_xticks(np.arange(0, n_iter, step=5))\n",
    "ax.set_xlabel('iter')\n",
    "ax.set_ylabel('hierarchy value')\n",
    "ax.set_title('confidence adjusted')\n",
    "plt.show()\n",
    "\n",
    "\"\"\" Figure of hierarchy score iterations without Cre-confidence \"\"\"\n",
    "fig,ax=plt.subplots()\n",
    "for i in range(0,n_area):\n",
    "    y=np.squeeze(np.asarray(hr_iter[hr_iter.areas==areas[i]].iloc[:,1::1]))\n",
    "    ax.plot(iteration,y)\n",
    "\n",
    "ax.set_xlim([0, n_iter])\n",
    "ax.set_xticks(np.arange(0, n_iter, step=5))\n",
    "ax.set_xlabel('iter')\n",
    "ax.set_ylabel('hierarchy value')\n",
    "ax.set_title('confidence not adjusted')\n",
    "plt.show()\n",
    "\n",
    "\"\"\" Figure showing correlation between hierarchy scores before & after iterations with Cre-confidence \"\"\"\n",
    "hrc_final = hrc_iter[:][n_iter]\n",
    "hrc_initial = hrc_iter[:][0]    \n",
    "f = plt.figure()\n",
    "plt.plot(hrc_initial,hrc_final,'ro')\n",
    "plt.xlabel('initial hierarchy (conf)')\n",
    "plt.ylabel('final hierarchy (conf)')\n",
    "plt.title('r='+str(np.corrcoef(hrc_initial, hrc_final)[0, 1]))\n",
    "plt.show()\n",
    "\n",
    "\"\"\" Figure showing correlation between hierarchy scores before & after iterations without Cre-confidence \"\"\"\n",
    "hr_final = hr_iter[:][n_iter]\n",
    "hr_initial = hr_iter[:][0]   \n",
    "f = plt.figure()\n",
    "plt.plot(hr_initial,hr_final,'ro')\n",
    "plt.xlabel('initial hierarchy (noconf)')\n",
    "plt.ylabel('final hierarchy (noconf)')\n",
    "plt.title('r='+str(np.corrcoef(hr_initial, hr_final)[0, 1]))\n",
    "plt.show()\n",
    "\n",
    "'''Save hierarchy scores before and after iteration'''\n",
    "\n",
    "hrc_iter = hrc_iter[['areas',0,n_iter]]\n",
    "hr_iter = hr_iter[['areas',0,n_iter] ]  \n",
    "hrc_iter.to_excel(output_dir+'CC_conf_iter_'+module+'.xlsx')\n",
    "#hr_iter.to_excel(output_dir+'CC_noconf_iter_'+module+'.xlsx')"
   ]
  },
  {
   "cell_type": "markdown",
   "id": "bb89817e",
   "metadata": {},
   "source": [
    "# Print out global hierarchy scores of the CC connectivity data before and after iteration"
   ]
  },
  {
   "cell_type": "code",
   "execution_count": null,
   "id": "3a64bc54",
   "metadata": {},
   "outputs": [],
   "source": [
    "dfV_temp = dfV[['source','target','ffb_c','ffb_nc','conf']]\n",
    "dfi_temp = hr_iter[['areas',0,n_iter]]\n",
    "dfi_temp_conf = hrc_iter[['areas',0,n_iter]]\n",
    "dfi_temp = dfi_temp.rename(columns={0: \"h0\", n_iter:\"h_iter\"})\n",
    "dfi_temp_conf = dfi_temp_conf.rename(columns={0: \"h0\", n_iter:\"h_iter\"})\n",
    "\n",
    "dfi_t = dfi_temp[['areas','h0']]\n",
    "dfV_temp = dfV_temp.join(dfi_t.set_index('areas'), on ='source')\n",
    "dfV_temp =dfV_temp.rename(columns={\"h0\": \"hs_init\"})\n",
    "dfV_temp = dfV_temp.join(dfi_t.set_index('areas'), on ='target')\n",
    "dfV_temp =dfV_temp.rename(columns={\"h0\": \"ht_init\"})\n",
    "dfV_temp = dfV_temp.dropna()\n",
    "\n",
    "dfi_t = dfi_temp[['areas','h_iter']]\n",
    "dfV_temp = dfV_temp.join(dfi_t.set_index('areas'), on ='source')\n",
    "dfV_temp =dfV_temp.rename(columns={\"h_iter\": \"hs_iter\"})\n",
    "dfV_temp = dfV_temp.join(dfi_t.set_index('areas'), on ='target')\n",
    "dfV_temp =dfV_temp.rename(columns={\"h_iter\": \"ht_iter\"})\n",
    "dfV_temp = dfV_temp.dropna()\n",
    "\n",
    "hg_CC_init = np.mean(dfV_temp.ffb_nc*(dfV_temp.ht_init - dfV_temp.hs_init))\n",
    "hg_CC_iter = np.mean(dfV_temp.ffb_nc*(dfV_temp.ht_iter - dfV_temp.hs_iter))\n",
    "\n",
    "\n",
    "dfV_temp = dfV[['source','target','ffb_c','ffb_nc','conf']]\n",
    "dfi_t= dfi_temp_conf[['areas','h0']]\n",
    "dfV_temp= dfV_temp.join(dfi_t.set_index('areas'), on ='source')\n",
    "dfV_temp =dfV_temp.rename(columns={\"h0\": \"hs_init\"})\n",
    "dfV_temp = dfV_temp.join(dfi_t.set_index('areas'), on ='target')\n",
    "dfV_temp =dfV_temp.rename(columns={\"h0\": \"ht_init\"})\n",
    "dfV_temp = dfV_temp.dropna()\n",
    "\n",
    "dfi_t = dfi_temp_conf[['areas','h_iter']]\n",
    "dfV_temp = dfV_temp.join(dfi_t.set_index('areas'), on ='source')\n",
    "dfV_temp =dfV_temp.rename(columns={\"h_iter\": \"hs_iter\"})\n",
    "dfV_temp = dfV_temp.join(dfi_t.set_index('areas'), on ='target')\n",
    "dfV_temp =dfV_temp.rename(columns={\"h_iter\": \"ht_iter\"})\n",
    "dfV_temp = dfV_temp.dropna()\n",
    "\n",
    "hg_CC_conf_init = np.mean(dfV_temp.ffb_c*(dfV_temp.ht_init - dfV_temp.hs_init))\n",
    "hg_CC_conf_iter = np.mean(dfV_temp.ffb_c*(dfV_temp.ht_iter - dfV_temp.hs_iter))\n",
    "\n",
    "\n",
    "print('hg of CC cortex='+str(hg_CC_init))\n",
    "print('hg of CC iterate cortex='+str(hg_CC_iter))\n",
    "\n",
    "print('hgc of CC cortex='+str(hg_CC_conf_init))\n",
    "print('hgc of CC iterate cortex='+str(hg_CC_conf_iter))\n",
    "\n",
    "\n",
    "'''Save global hierarchy scores'''\n",
    "newDF= pd.DataFrame([])\n",
    "newDF= pd.concat([newDF, pd.DataFrame({'hg_CC_init':hg_CC_init, 'hg_CC_iter':hg_CC_iter,\n",
    "                                 'hg_CC_conf_init':hg_CC_conf_init, 'hg_CC_conf_iter':hg_CC_conf_iter},index=[0])])\n",
    "newDF.to_excel(output_dir+'ghs_CC_'+module+'.xlsx')"
   ]
  }
 ],
 "metadata": {
  "kernelspec": {
   "display_name": "Python 3 (ipykernel)",
   "language": "python",
   "name": "python3"
  },
  "language_info": {
   "codemirror_mode": {
    "name": "ipython",
    "version": 3
   },
   "file_extension": ".py",
   "mimetype": "text/x-python",
   "name": "python",
   "nbconvert_exporter": "python",
   "pygments_lexer": "ipython3",
   "version": "3.9.12"
  }
 },
 "nbformat": 4,
 "nbformat_minor": 5
}
